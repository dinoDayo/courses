{
 "cells": [
  {
   "cell_type": "code",
   "execution_count": 14,
   "id": "be2d6195-b94b-4a76-8348-f715e05ce3bf",
   "metadata": {},
   "outputs": [],
   "source": [
    "# imports\n",
    "from qdrant_client import QdrantClient\n",
    "from qdrant_client.http import models\n",
    "import numpy as np\n",
    "from faker import Faker"
   ]
  },
  {
   "cell_type": "code",
   "execution_count": 15,
   "id": "14079e6a-c6a4-4b5d-930b-db78eb932afc",
   "metadata": {},
   "outputs": [
    {
     "name": "stderr",
     "output_type": "stream",
     "text": [
      "/Users/omodayoorigunwa/code_base/tutorials/dayo_tuts/courses/youtube/qdrant_tut/qdrant/lib/python3.11/site-packages/qdrant_client/qdrant_remote.py:123: UserWarning: Api key is used with unsecure connection.\n",
      "  warnings.warn(\"Api key is used with unsecure connection.\")\n"
     ]
    }
   ],
   "source": [
    "# create an authenticated client; NOTE that https=False required for local testing\n",
    "client = QdrantClient(host=\"localhost\", port=6333, api_key=\"\", https=False)"
   ]
  },
  {
   "cell_type": "code",
   "execution_count": 16,
   "id": "6c87a7f8-e2e8-4cfe-bbda-419253032e2e",
   "metadata": {},
   "outputs": [
    {
     "data": {
      "text/plain": [
       "True"
      ]
     },
     "execution_count": 16,
     "metadata": {},
     "output_type": "execute_result"
    }
   ],
   "source": [
    "# create collection to contain our first dataset\n",
    "my_collection = \"first_collection\"\n",
    "client.create_collection(\n",
    "    collection_name=my_collection,\n",
    "    vectors_config=models.VectorParams(size=100, distance=models.Distance.COSINE)\n",
    ")"
   ]
  },
  {
   "cell_type": "code",
   "execution_count": 17,
   "id": "33322fa6-106e-4ef8-a814-d3089326e909",
   "metadata": {},
   "outputs": [],
   "source": [
    "# create a faux dataset for our first collection\n",
    "data = np.random.uniform(low=-1.0, high=1.0, size=(1000,100))\n",
    "index = list(range(1000))"
   ]
  },
  {
   "cell_type": "code",
   "execution_count": 18,
   "id": "d88e58e3-d087-489d-8a9b-5ccf0bc32b33",
   "metadata": {},
   "outputs": [
    {
     "data": {
      "text/plain": [
       "UpdateResult(operation_id=0, status=<UpdateStatus.COMPLETED: 'completed'>)"
      ]
     },
     "execution_count": 18,
     "metadata": {},
     "output_type": "execute_result"
    }
   ],
   "source": [
    "# insert faux data into our collection\n",
    "client.upsert(\n",
    "    collection_name=my_collection,\n",
    "    points=models.Batch(\n",
    "        ids=index,\n",
    "        vectors=data.tolist()\n",
    "    )\n",
    ")"
   ]
  },
  {
   "cell_type": "code",
   "execution_count": 19,
   "id": "e159cb58-0910-441d-b63d-9e066dc0688d",
   "metadata": {},
   "outputs": [
    {
     "data": {
      "text/plain": [
       "[Record(id=10, payload={}, vector=None, shard_key=None),\n",
       " Record(id=14, payload={}, vector=None, shard_key=None),\n",
       " Record(id=500, payload={}, vector=None, shard_key=None)]"
      ]
     },
     "execution_count": 19,
     "metadata": {},
     "output_type": "execute_result"
    }
   ],
   "source": [
    "# verify data was upserted\n",
    "client.retrieve(\n",
    "    collection_name=my_collection,\n",
    "    ids=[10,14,500],\n",
    "    # with_vectors=True\n",
    ")"
   ]
  },
  {
   "cell_type": "code",
   "execution_count": 21,
   "id": "3ae082ca-b6f6-4268-bfcc-af01902c1738",
   "metadata": {},
   "outputs": [],
   "source": [
    "fake_something = Faker()"
   ]
  },
  {
   "cell_type": "code",
   "execution_count": 23,
   "id": "770e174c-bc22-4618-a2e2-f32bcaa9bf73",
   "metadata": {},
   "outputs": [
    {
     "data": {
      "text/plain": [
       "[{'artist': 'Bobby Wallace',\n",
       "  'song': 'believe audience present',\n",
       "  'url_song': 'http://www.garcia.info/',\n",
       "  'year': '1971',\n",
       "  'country': 'Djibouti'},\n",
       " {'artist': 'John Rodriguez',\n",
       "  'song': 'state environment usually',\n",
       "  'url_song': 'http://www.todd-bradley.com/',\n",
       "  'year': '1990',\n",
       "  'country': 'Equatorial Guinea'},\n",
       " {'artist': 'Kenneth Clayton',\n",
       "  'song': 'he project arm',\n",
       "  'url_song': 'https://www.oliver-hines.org/',\n",
       "  'year': '2010',\n",
       "  'country': 'Solomon Islands'}]"
      ]
     },
     "execution_count": 23,
     "metadata": {},
     "output_type": "execute_result"
    }
   ],
   "source": [
    "# lets enrich this faux data with some faux metadata to make the query process more coherant\n",
    "payload=[]\n",
    "for i in range(1000):\n",
    "    payload.append(\n",
    "        {\n",
    "            \"artist\": fake_something.name(),\n",
    "            \"song\": \" \".join(fake_something.words()),\n",
    "            \"url_song\": fake_something.url(),\n",
    "            \"year\": fake_something.year(),\n",
    "            \"country\": fake_something.country()\n",
    "        }\n",
    "    )\n",
    "payload[:3]"
   ]
  },
  {
   "cell_type": "code",
   "execution_count": 24,
   "id": "941e4cdf-558e-42e5-8112-2dcd74e83c47",
   "metadata": {},
   "outputs": [
    {
     "data": {
      "text/plain": [
       "UpdateResult(operation_id=1, status=<UpdateStatus.COMPLETED: 'completed'>)"
      ]
     },
     "execution_count": 24,
     "metadata": {},
     "output_type": "execute_result"
    }
   ],
   "source": [
    "# now lets update our original collection with these enriched payloads of record metadata\n",
    "client.upsert(\n",
    "    collection_name=my_collection,\n",
    "    points=models.Batch(\n",
    "        ids=index,\n",
    "        vectors=data.tolist(),\n",
    "        payloads=payload\n",
    "    )\n",
    ")"
   ]
  },
  {
   "cell_type": "markdown",
   "id": "7bd50c73-f0d7-445d-869e-ced79afdc813",
   "metadata": {},
   "source": [
    "## Semantic Search example"
   ]
  },
  {
   "cell_type": "code",
   "execution_count": 29,
   "id": "dc607bd8-80dd-41cd-a485-b479329d60df",
   "metadata": {},
   "outputs": [
    {
     "data": {
      "text/plain": [
       "[-0.18175906842989042,\n",
       " -0.9296534873514424,\n",
       " -0.45692440514089827,\n",
       " 0.8573694071254372,\n",
       " -0.7364408048579516]"
      ]
     },
     "execution_count": 29,
     "metadata": {},
     "output_type": "execute_result"
    }
   ],
   "source": [
    "# given the song represented as a vector below, lets find the 10 most similar songs to our input using COSINE similarity\n",
    "living_la_vida_loca = np.random.uniform(low=-1.0, high=1.0, size=(100)).tolist()\n",
    "living_la_vida_loca[:5]"
   ]
  },
  {
   "cell_type": "code",
   "execution_count": 30,
   "id": "2d13fb19-9247-4363-b024-640dbdca60e0",
   "metadata": {},
   "outputs": [
    {
     "data": {
      "text/plain": [
       "[ScoredPoint(id=669, version=1, score=0.308548, payload={'artist': 'Dana Williams', 'country': 'United Arab Emirates', 'song': 'people federal management', 'url_song': 'http://sanders.com/', 'year': '2015'}, vector=None, shard_key=None),\n",
       " ScoredPoint(id=441, version=1, score=0.29920763, payload={'artist': 'Devin Williams', 'country': 'Netherlands', 'song': 'rich clearly majority', 'url_song': 'http://www.wilson.com/', 'year': '1996'}, vector=None, shard_key=None),\n",
       " ScoredPoint(id=825, version=1, score=0.29409635, payload={'artist': 'Aaron Bailey', 'country': 'Marshall Islands', 'song': 'teach short guess', 'url_song': 'http://thompson-moore.com/', 'year': '1998'}, vector=None, shard_key=None),\n",
       " ScoredPoint(id=513, version=1, score=0.28639713, payload={'artist': 'Rita Thornton', 'country': 'Uzbekistan', 'song': 'order culture within', 'url_song': 'http://www.nelson-jacobs.com/', 'year': '2009'}, vector=None, shard_key=None),\n",
       " ScoredPoint(id=91, version=1, score=0.28554222, payload={'artist': 'Carol Gutierrez', 'country': 'Iraq', 'song': 'guess east spend', 'url_song': 'https://www.rocha-donovan.com/', 'year': '1970'}, vector=None, shard_key=None),\n",
       " ScoredPoint(id=855, version=1, score=0.27741852, payload={'artist': 'Angela Park', 'country': 'Slovakia (Slovak Republic)', 'song': 'especially hour fish', 'url_song': 'https://www.odom-trevino.com/', 'year': '1991'}, vector=None, shard_key=None),\n",
       " ScoredPoint(id=15, version=1, score=0.27525163, payload={'artist': 'Stacy Conley', 'country': 'Timor-Leste', 'song': 'loss responsibility measure', 'url_song': 'https://holmes.com/', 'year': '2004'}, vector=None, shard_key=None),\n",
       " ScoredPoint(id=698, version=1, score=0.2690132, payload={'artist': 'Jessica Meyer', 'country': 'Rwanda', 'song': 'simply one specific', 'url_song': 'http://www.turner.com/', 'year': '2012'}, vector=None, shard_key=None),\n",
       " ScoredPoint(id=403, version=1, score=0.26391676, payload={'artist': 'Erica Johnson', 'country': 'Finland', 'song': 'wonder message relationship', 'url_song': 'https://pierce-colon.com/', 'year': '2006'}, vector=None, shard_key=None),\n",
       " ScoredPoint(id=740, version=1, score=0.2607666, payload={'artist': 'Michael Norton', 'country': 'Finland', 'song': 'design rule lawyer', 'url_song': 'https://www.young-armstrong.org/', 'year': '2005'}, vector=None, shard_key=None)]"
      ]
     },
     "execution_count": 30,
     "metadata": {},
     "output_type": "execute_result"
    }
   ],
   "source": [
    "# submitting our similarity query\n",
    "client.search(\n",
    "    collection_name=my_collection,\n",
    "    query_vector=living_la_vida_loca,\n",
    "    limit=10\n",
    ")"
   ]
  },
  {
   "cell_type": "code",
   "execution_count": 32,
   "id": "51806d98-54c8-4372-aea5-b914a7743ad2",
   "metadata": {},
   "outputs": [
    {
     "data": {
      "text/plain": [
       "Filter(should=None, min_should=None, must=[FieldCondition(key='country', match=MatchValue(value='Australia'), range=None, geo_bounding_box=None, geo_radius=None, geo_polygon=None, values_count=None)], must_not=None)"
      ]
     },
     "execution_count": 32,
     "metadata": {},
     "output_type": "execute_result"
    }
   ],
   "source": [
    "# creating a filter to apply to our similarity query\n",
    "aussie_songs_filter = models.Filter(\n",
    "    must=[\n",
    "        models.FieldCondition(\n",
    "            key=\"country\", match=models.MatchValue(value=\"Australia\")\n",
    "        )\n",
    "    ]\n",
    ")\n",
    "aussie_songs_filter"
   ]
  },
  {
   "cell_type": "code",
   "execution_count": 34,
   "id": "3b0a65af-d667-446f-938d-6fffe6d6a21b",
   "metadata": {},
   "outputs": [
    {
     "data": {
      "text/plain": [
       "[ScoredPoint(id=722, version=1, score=0.20792668, payload={'artist': 'Crystal Montgomery', 'country': 'Australia', 'song': 'huge federal far', 'url_song': 'https://www.barry.org/', 'year': '1982'}, vector=None, shard_key=None),\n",
       " ScoredPoint(id=873, version=1, score=0.20457776, payload={'artist': 'Dennis Lee II', 'country': 'Australia', 'song': 'remember big data', 'url_song': 'http://willis.org/', 'year': '1975'}, vector=None, shard_key=None),\n",
       " ScoredPoint(id=280, version=1, score=0.1292643, payload={'artist': 'Dr. Albert Myers', 'country': 'Australia', 'song': 'ready thought together', 'url_song': 'https://wilson.com/', 'year': '2009'}, vector=None, shard_key=None),\n",
       " ScoredPoint(id=776, version=1, score=0.038907286, payload={'artist': 'Mark Hodges', 'country': 'Australia', 'song': 'later together push', 'url_song': 'https://mcdonald.com/', 'year': '1991'}, vector=None, shard_key=None),\n",
       " ScoredPoint(id=249, version=1, score=-0.00091386866, payload={'artist': 'Matthew Clay', 'country': 'Australia', 'song': 'indicate nation two', 'url_song': 'http://www.best-johnson.net/', 'year': '1971'}, vector=None, shard_key=None),\n",
       " ScoredPoint(id=191, version=1, score=-0.028745126, payload={'artist': 'Joseph Johnson', 'country': 'Australia', 'song': 'discussion must good', 'url_song': 'http://nunez.com/', 'year': '1984'}, vector=None, shard_key=None),\n",
       " ScoredPoint(id=227, version=1, score=-0.03391791, payload={'artist': 'Amy Finley', 'country': 'Australia', 'song': 'woman field record', 'url_song': 'http://www.martinez.com/', 'year': '2014'}, vector=None, shard_key=None),\n",
       " ScoredPoint(id=283, version=1, score=-0.04748013, payload={'artist': 'Andre Sanchez', 'country': 'Australia', 'song': 'vote general out', 'url_song': 'https://ross.com/', 'year': '1994'}, vector=None, shard_key=None)]"
      ]
     },
     "execution_count": 34,
     "metadata": {},
     "output_type": "execute_result"
    }
   ],
   "source": [
    "# applying our similarity query with the filter defined above\n",
    "client.search(\n",
    "    collection_name=my_collection,\n",
    "    query_vector=living_la_vida_loca,\n",
    "    query_filter=aussie_songs_filter,\n",
    "    limit=10\n",
    ")"
   ]
  },
  {
   "cell_type": "markdown",
   "id": "8f7529e8-25de-4d0f-9a6e-becf147cc3b5",
   "metadata": {},
   "source": [
    "## Recommendation Service example"
   ]
  },
  {
   "cell_type": "code",
   "execution_count": 38,
   "id": "6f54e105-7e19-477b-aee4-6edd0c3a45ef",
   "metadata": {},
   "outputs": [
    {
     "data": {
      "text/plain": [
       "[ScoredPoint(id=191, version=1, score=0.08083607, payload={'artist': 'Joseph Johnson', 'country': 'Australia', 'song': 'discussion must good', 'url_song': 'http://nunez.com/', 'year': '1984'}, vector=None, shard_key=None),\n",
       " ScoredPoint(id=249, version=1, score=0.057539966, payload={'artist': 'Matthew Clay', 'country': 'Australia', 'song': 'indicate nation two', 'url_song': 'http://www.best-johnson.net/', 'year': '1971'}, vector=None, shard_key=None),\n",
       " ScoredPoint(id=227, version=1, score=0.029610964, payload={'artist': 'Amy Finley', 'country': 'Australia', 'song': 'woman field record', 'url_song': 'http://www.martinez.com/', 'year': '2014'}, vector=None, shard_key=None),\n",
       " ScoredPoint(id=776, version=1, score=0.020995768, payload={'artist': 'Mark Hodges', 'country': 'Australia', 'song': 'later together push', 'url_song': 'https://mcdonald.com/', 'year': '1991'}, vector=None, shard_key=None),\n",
       " ScoredPoint(id=873, version=1, score=-0.009093838, payload={'artist': 'Dennis Lee II', 'country': 'Australia', 'song': 'remember big data', 'url_song': 'http://willis.org/', 'year': '1975'}, vector=None, shard_key=None),\n",
       " ScoredPoint(id=722, version=1, score=-0.012476547, payload={'artist': 'Crystal Montgomery', 'country': 'Australia', 'song': 'huge federal far', 'url_song': 'https://www.barry.org/', 'year': '1982'}, vector=None, shard_key=None),\n",
       " ScoredPoint(id=283, version=1, score=-0.12260457, payload={'artist': 'Andre Sanchez', 'country': 'Australia', 'song': 'vote general out', 'url_song': 'https://ross.com/', 'year': '1994'}, vector=None, shard_key=None),\n",
       " ScoredPoint(id=280, version=1, score=-0.14872515, payload={'artist': 'Dr. Albert Myers', 'country': 'Australia', 'song': 'ready thought together', 'url_song': 'https://wilson.com/', 'year': '2009'}, vector=None, shard_key=None)]"
      ]
     },
     "execution_count": 38,
     "metadata": {},
     "output_type": "execute_result"
    }
   ],
   "source": [
    "client.recommend(\n",
    "    collection_name=my_collection,\n",
    "    # with_vectors=living_la_vida_loca,\n",
    "    positive=[17], # references songs similar to the song with ID 17\n",
    "    negative=[100,444], # references songs similar to the songs with IDs 100 & 444\n",
    "    query_filter=aussie_songs_filter, # applies the aussie filter\n",
    "    limit=10 \n",
    ")"
   ]
  },
  {
   "cell_type": "markdown",
   "id": "0cccef01-6da9-4ad3-b914-8f838bae4cb1",
   "metadata": {},
   "source": [
    "## Semantic Search with domain and index\n"
   ]
  }
 ],
 "metadata": {
  "kernelspec": {
   "display_name": "Python 3 (ipykernel)",
   "language": "python",
   "name": "python3"
  },
  "language_info": {
   "codemirror_mode": {
    "name": "ipython",
    "version": 3
   },
   "file_extension": ".py",
   "mimetype": "text/x-python",
   "name": "python",
   "nbconvert_exporter": "python",
   "pygments_lexer": "ipython3",
   "version": "3.11.7"
  }
 },
 "nbformat": 4,
 "nbformat_minor": 5
}
